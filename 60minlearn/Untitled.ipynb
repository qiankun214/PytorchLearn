{
 "cells": [
  {
   "cell_type": "code",
   "execution_count": 3,
   "metadata": {},
   "outputs": [],
   "source": [
    "import torch as pt"
   ]
  },
  {
   "cell_type": "code",
   "execution_count": 4,
   "metadata": {},
   "outputs": [
    {
     "name": "stdout",
     "output_type": "stream",
     "text": [
      "\n",
      "-5603.4883     0.0000 -5603.4883     0.0000\n",
      "    0.0000     0.0000     0.0000     0.0000\n",
      "[torch.FloatTensor of size 2x4]\n",
      "\n",
      "\n",
      " 0.4996  0.2936  0.0483\n",
      " 0.2531  0.9810  0.8452\n",
      " 0.8293  0.7397  0.1172\n",
      " 0.4975  0.7595  0.4394\n",
      " 0.7054  0.6976  0.6813\n",
      "[torch.FloatTensor of size 5x3]\n",
      " 5\n"
     ]
    }
   ],
   "source": [
    "x = pt.Tensor(2, 4)\n",
    "print(x)\n",
    "x = pt.rand(5, 3)\n",
    "print(x,x.size()[0])\n",
    "y = pt.rand(5, 3)"
   ]
  },
  {
   "cell_type": "code",
   "execution_count": null,
   "metadata": {},
   "outputs": [],
   "source": []
  }
 ],
 "metadata": {
  "kernelspec": {
   "display_name": "Python 3",
   "language": "python",
   "name": "python3"
  },
  "language_info": {
   "codemirror_mode": {
    "name": "ipython",
    "version": 3
   },
   "file_extension": ".py",
   "mimetype": "text/x-python",
   "name": "python",
   "nbconvert_exporter": "python",
   "pygments_lexer": "ipython3",
   "version": "3.5.2"
  }
 },
 "nbformat": 4,
 "nbformat_minor": 2
}
