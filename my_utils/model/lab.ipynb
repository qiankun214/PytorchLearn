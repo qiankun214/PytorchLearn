{
 "cells": [
  {
   "cell_type": "code",
   "execution_count": 1,
   "metadata": {},
   "outputs": [],
   "source": [
    "import torch as pt\n",
    "import torchvision as ptv"
   ]
  },
  {
   "cell_type": "markdown",
   "metadata": {},
   "source": [
    "# 带批标准化的2d卷积"
   ]
  },
  {
   "cell_type": "code",
   "execution_count": 13,
   "metadata": {},
   "outputs": [],
   "source": [
    "class NormConv2d(pt.nn.Module):\n",
    "    def __init__(self,in_channels, out_channels, kernel_size, stride=1, padding=0, \\\n",
    "                 dilation=1, groups=1, bias=True,momentum=0.1,eps=1e-05,affine=True):\n",
    "        super(NormConv2d,self).__init__()\n",
    "        self.conv = pt.nn.Conv2d(in_channels, out_channels, kernel_size, stride, padding, dilation, groups, bias)\n",
    "        self.norm = pt.nn.BatchNorm2d(out_channels,momentum=momentum,eps=eps,affine=affine)\n",
    "    \n",
    "    def forward(self,x):\n",
    "        return self.norm(self.conv(x))"
   ]
  },
  {
   "cell_type": "code",
   "execution_count": 14,
   "metadata": {},
   "outputs": [
    {
     "name": "stdout",
     "output_type": "stream",
     "text": [
      "NormConv2d (\n",
      "  (conv): Conv2d(3, 10, kernel_size=(3, 3), stride=(1, 1), padding=(1, 1))\n",
      "  (norm): BatchNorm2d(10, eps=1e-05, momentum=0.1, affine=True)\n",
      ")\n"
     ]
    },
    {
     "data": {
      "text/plain": [
       "torch.Size([1, 10, 9, 9])"
      ]
     },
     "execution_count": 14,
     "metadata": {},
     "output_type": "execute_result"
    }
   ],
   "source": [
    "test = NormConv2d(3,10,3,padding=1)\n",
    "print(test)\n",
    "test(pt.autograd.Variable(pt.randn(1,3,9,9))).size()"
   ]
  },
  {
   "cell_type": "markdown",
   "metadata": {},
   "source": [
    "# 带批标准化的全连接层"
   ]
  },
  {
   "cell_type": "code",
   "execution_count": 15,
   "metadata": {},
   "outputs": [],
   "source": [
    "class NormLinear(pt.nn.Module):\n",
    "    def __init__(self,in_features, out_features, bias=True,momentum=0.1,eps=1e-05,affine=True):\n",
    "        super(NormLinear,self).__init__()\n",
    "        self.fc = pt.nn.Linear(in_features,out_features,bias=bias)\n",
    "        self.norm = pt.nn.BatchNorm1d(out_features,eps,momentum,affine)\n",
    "        \n",
    "    def forward(self,x):\n",
    "        return self.norm(self.fc(x))"
   ]
  },
  {
   "cell_type": "code",
   "execution_count": 16,
   "metadata": {},
   "outputs": [
    {
     "name": "stdout",
     "output_type": "stream",
     "text": [
      "NormLinear (\n",
      "  (fc): Linear (4 -> 16)\n",
      "  (norm): BatchNorm1d(16, eps=1e-05, momentum=0.1, affine=True)\n",
      ")\n"
     ]
    },
    {
     "data": {
      "text/plain": [
       "Variable containing:\n",
       "\n",
       "Columns 0 to 12 \n",
       "    0     0     0     0     0     0     0     0     0     0     0     0     0\n",
       "\n",
       "Columns 13 to 15 \n",
       "    0     0     0\n",
       "[torch.FloatTensor of size 1x16]"
      ]
     },
     "execution_count": 16,
     "metadata": {},
     "output_type": "execute_result"
    }
   ],
   "source": [
    "test = NormLinear(4,16)\n",
    "print(test)\n",
    "test(pt.autograd.Variable(pt.randn(1,4)))"
   ]
  },
  {
   "cell_type": "markdown",
   "metadata": {},
   "source": [
    "# 连续卷积层"
   ]
  },
  {
   "cell_type": "code",
   "execution_count": 24,
   "metadata": {},
   "outputs": [],
   "source": [
    "class ContinuousConv2d(pt.nn.Module):\n",
    "    def __init__(self,channel_list,kernel_list,padding_list=None,stride_list=None,conv=pt.nn.Conv2d,afunc=pt.nn.ReLU,**other):\n",
    "        super(ContinuousConv2d,self).__init__()\n",
    "        if padding_list is None:\n",
    "            padding_list = [int(x // 2) for x in kernel_list]\n",
    "        if stride_list is None:\n",
    "            stride_list = [1 for _ in range(len(kernel_list))]\n",
    "        conv_list = []\n",
    "        for i in range(len(channel_list) - 1):\n",
    "            conv_list.append(conv(channel_list[i],channel_list[i + 1],kernel_list[i],stride=stride_list[i],padding=padding_list[i],**other))\n",
    "            conv_list.append(afunc())\n",
    "        self.conv = pt.nn.Sequential(*conv_list[:-1])\n",
    "        \n",
    "    def forward(self,x):\n",
    "        return self.conv(x)"
   ]
  },
  {
   "cell_type": "code",
   "execution_count": 25,
   "metadata": {
    "scrolled": false
   },
   "outputs": [
    {
     "name": "stdout",
     "output_type": "stream",
     "text": [
      "ContinuousConv2d (\n",
      "  (conv): Sequential (\n",
      "    (0): Conv2d(1, 8, kernel_size=(3, 3), stride=(1, 1), padding=(1, 1))\n",
      "    (1): ReLU ()\n",
      "    (2): Conv2d(8, 16, kernel_size=(3, 3), stride=(1, 1), padding=(1, 1))\n",
      "  )\n",
      ")\n"
     ]
    },
    {
     "data": {
      "text/plain": [
       "Variable containing:\n",
       "(0 ,0 ,.,.) = \n",
       "  0.0524  0.4676  0.4081  ...   0.2864  0.2125 -0.0094\n",
       "  0.0184  0.2728  0.0101  ...   0.2032  0.2477  0.2890\n",
       "  0.3800  0.4502  0.0744  ...  -0.0487  0.3251  0.2397\n",
       "           ...             ⋱             ...          \n",
       "  0.2249 -0.0121  0.0616  ...   0.1377  0.2923  0.1872\n",
       "  0.0310  0.2627  0.0765  ...   0.1064  0.0898 -0.0992\n",
       " -0.1131  0.1662  0.1120  ...  -0.1280  0.1784  0.0268\n",
       "\n",
       "(0 ,1 ,.,.) = \n",
       " -0.0101 -0.1852 -0.1042  ...   0.0359 -0.0763 -0.4257\n",
       "  0.1514 -0.2760 -0.0718  ...   0.0341 -0.2317 -0.0404\n",
       " -0.1742  0.2562  0.2920  ...  -0.0881  0.0118  0.0711\n",
       "           ...             ⋱             ...          \n",
       " -0.2541 -0.3063  0.0141  ...   0.1248 -0.3487 -0.3627\n",
       " -0.1559  0.1848 -0.0870  ...  -0.0911  0.1414 -0.3398\n",
       "  0.0629 -0.0027  0.0227  ...   0.0360  0.0105 -0.0180\n",
       "\n",
       "(0 ,2 ,.,.) = \n",
       " -0.2058  0.0845 -0.2227  ...  -0.3317 -0.1473 -0.2814\n",
       " -0.2114 -0.4305 -0.4807  ...  -0.3583 -0.2428 -0.1912\n",
       " -0.0444 -0.1291 -0.1698  ...  -0.3227 -0.3870 -0.0743\n",
       "           ...             ⋱             ...          \n",
       " -0.4027 -0.5871 -0.2053  ...  -0.1934 -0.2342 -0.3190\n",
       " -0.3470 -0.2046 -0.1253  ...  -0.3224 -0.3672 -0.0966\n",
       " -0.1757 -0.2683 -0.4466  ...  -0.2151 -0.2149 -0.1828\n",
       "   ...\n",
       "\n",
       "(0 ,13,.,.) = \n",
       "  0.1902  0.2608 -0.1256  ...   0.2707 -0.1912 -0.1346\n",
       " -0.1098 -0.3639 -0.2498  ...   0.1577  0.2097 -0.1934\n",
       " -0.0477 -0.3766 -0.2669  ...   0.1046 -0.4731 -0.2835\n",
       "           ...             ⋱             ...          \n",
       " -0.2329 -0.1054 -0.1021  ...  -0.3614  0.3013 -0.0630\n",
       "  0.0625  0.1975  0.1075  ...  -0.0094 -0.0155 -0.0238\n",
       " -0.0114  0.3157  0.0444  ...  -0.0462  0.2268  0.0385\n",
       "\n",
       "(0 ,14,.,.) = \n",
       "  0.1365  0.0260  0.0406  ...   0.1823  0.0059  0.1308\n",
       "  0.1786 -0.1242 -0.1368  ...   0.0362  0.0715 -0.0305\n",
       " -0.0131 -0.0560 -0.1462  ...   0.3481 -0.1410 -0.0687\n",
       "           ...             ⋱             ...          \n",
       "  0.1568  0.0887  0.1641  ...   0.1323  0.0940 -0.1210\n",
       "  0.3077  0.1716  0.0303  ...   0.0915 -0.0871 -0.0737\n",
       " -0.0003  0.1007 -0.0603  ...   0.0006  0.1804  0.0115\n",
       "\n",
       "(0 ,15,.,.) = \n",
       "  0.1082 -0.1537  0.1431  ...  -0.2068 -0.0077  0.0087\n",
       "  0.3989  0.2650  0.4292  ...   0.3354  0.2870  0.0886\n",
       " -0.0597  0.1335  0.0875  ...   0.2643  0.3702  0.4274\n",
       "           ...             ⋱             ...          \n",
       "  0.4352  0.1835  0.4862  ...   0.4472  0.1115  0.0695\n",
       "  0.1104  0.1534  0.2982  ...   0.1928 -0.0165  0.2285\n",
       "  0.0720  0.1424  0.1874  ...   0.0544  0.1461  0.0625\n",
       "[torch.FloatTensor of size 1x16x10x10]"
      ]
     },
     "execution_count": 25,
     "metadata": {},
     "output_type": "execute_result"
    }
   ],
   "source": [
    "test = ContinuousConv2d([1,8,16],[3,3])\n",
    "print(test)\n",
    "test(pt.autograd.Variable(pt.randn(1,1,10,10)))"
   ]
  },
  {
   "cell_type": "markdown",
   "metadata": {},
   "source": [
    "# 连续MLP层"
   ]
  },
  {
   "cell_type": "code",
   "execution_count": 34,
   "metadata": {},
   "outputs": [],
   "source": [
    "class ContinuousLinear(pt.nn.Module):\n",
    "    def __init__(self,feature_list,bias=True,linear=pt.nn.Linear,afunc=pt.nn.ReLU,**other):\n",
    "        super(ContinuousLinear,self).__init__()\n",
    "        linear_list = []\n",
    "        for i in range(len(feature_list) - 1):\n",
    "            linear_list.append(linear(feature_list[i],feature_list[i + 1],bias=bias,**other))\n",
    "            linear_list.append(afunc())\n",
    "        self.fc = pt.nn.Sequential(*linear_list[:-1])\n",
    "        \n",
    "    def forward(self,x):\n",
    "        return self.fc(x)"
   ]
  },
  {
   "cell_type": "code",
   "execution_count": 35,
   "metadata": {},
   "outputs": [
    {
     "name": "stdout",
     "output_type": "stream",
     "text": [
      "ContinuousLinear (\n",
      "  (fc): Sequential (\n",
      "    (0): Linear (10 -> 16)\n",
      "    (1): ReLU ()\n",
      "    (2): Linear (16 -> 32)\n",
      "  )\n",
      ")\n"
     ]
    }
   ],
   "source": [
    "test = ContinuousLinear([10,16,32])\n",
    "print(test)"
   ]
  },
  {
   "cell_type": "code",
   "execution_count": 36,
   "metadata": {},
   "outputs": [
    {
     "data": {
      "text/plain": [
       "Variable containing:\n",
       "\n",
       "Columns 0 to 9 \n",
       "-0.1863  0.0415 -0.2109 -0.2867 -0.1637 -0.5474 -0.1163 -0.1524  0.4732 -0.1101\n",
       "\n",
       "Columns 10 to 19 \n",
       " 0.3767 -0.4234 -0.0083  0.1701  0.1976  0.1648  0.1711  0.0952  0.3829 -0.4260\n",
       "\n",
       "Columns 20 to 29 \n",
       "-0.1192  0.1996 -0.1150  0.1657  0.5129 -0.1024 -0.0795  0.5058  0.3117 -0.1583\n",
       "\n",
       "Columns 30 to 31 \n",
       " 0.6542  0.3360\n",
       "[torch.FloatTensor of size 1x32]"
      ]
     },
     "execution_count": 36,
     "metadata": {},
     "output_type": "execute_result"
    }
   ],
   "source": [
    "test(pt.autograd.Variable(pt.randn(1,10)))"
   ]
  },
  {
   "cell_type": "code",
   "execution_count": null,
   "metadata": {},
   "outputs": [],
   "source": []
  }
 ],
 "metadata": {
  "kernelspec": {
   "display_name": "Python 3",
   "language": "python",
   "name": "python3"
  },
  "language_info": {
   "codemirror_mode": {
    "name": "ipython",
    "version": 3
   },
   "file_extension": ".py",
   "mimetype": "text/x-python",
   "name": "python",
   "nbconvert_exporter": "python",
   "pygments_lexer": "ipython3",
   "version": "3.5.2"
  }
 },
 "nbformat": 4,
 "nbformat_minor": 2
}
