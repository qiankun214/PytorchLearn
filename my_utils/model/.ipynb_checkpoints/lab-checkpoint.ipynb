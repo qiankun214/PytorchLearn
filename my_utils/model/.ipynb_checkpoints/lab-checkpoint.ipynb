{
 "cells": [
  {
   "cell_type": "code",
   "execution_count": 1,
   "metadata": {},
   "outputs": [],
   "source": [
    "import torch as pt\n",
    "import torchvision as ptv"
   ]
  },
  {
   "cell_type": "markdown",
   "metadata": {},
   "source": [
    "# 带批标准化的2d卷积"
   ]
  },
  {
   "cell_type": "code",
   "execution_count": 13,
   "metadata": {},
   "outputs": [],
   "source": [
    "class NormConv2d(pt.nn.Module):\n",
    "    def __init__(self,in_channels, out_channels, kernel_size, stride=1, padding=0, \\\n",
    "                 dilation=1, groups=1, bias=True,momentum=0.1,eps=1e-05,affine=True):\n",
    "        super(NormConv2d,self).__init__()\n",
    "        self.conv = pt.nn.Conv2d(in_channels, out_channels, kernel_size, stride, padding, dilation, groups, bias)\n",
    "        self.norm = pt.nn.BatchNorm2d(out_channels,momentum=momentum,eps=eps,affine=affine)\n",
    "    \n",
    "    def forward(self,x):\n",
    "        return self.norm(self.conv(x))"
   ]
  },
  {
   "cell_type": "code",
   "execution_count": 14,
   "metadata": {},
   "outputs": [
    {
     "name": "stdout",
     "output_type": "stream",
     "text": [
      "NormConv2d (\n",
      "  (conv): Conv2d(3, 10, kernel_size=(3, 3), stride=(1, 1), padding=(1, 1))\n",
      "  (norm): BatchNorm2d(10, eps=1e-05, momentum=0.1, affine=True)\n",
      ")\n"
     ]
    },
    {
     "data": {
      "text/plain": [
       "torch.Size([1, 10, 9, 9])"
      ]
     },
     "execution_count": 14,
     "metadata": {},
     "output_type": "execute_result"
    }
   ],
   "source": [
    "test = NormConv2d(3,10,3,padding=1)\n",
    "print(test)\n",
    "test(pt.autograd.Variable(pt.randn(1,3,9,9))).size()"
   ]
  },
  {
   "cell_type": "markdown",
   "metadata": {},
   "source": [
    "# 带批标准化的全连接层"
   ]
  },
  {
   "cell_type": "code",
   "execution_count": 15,
   "metadata": {},
   "outputs": [],
   "source": [
    "class NormLinear(pt.nn.Module):\n",
    "    def __init__(self,in_features, out_features, bias=True,momentum=0.1,eps=1e-05,affine=True):\n",
    "        super(NormLinear,self).__init__()\n",
    "        self.fc = pt.nn.Linear(in_features,out_features,bias=bias)\n",
    "        self.norm = pt.nn.BatchNorm1d(out_features,eps,momentum,affine)\n",
    "        \n",
    "    def forward(self,x):\n",
    "        return self.norm(self.fc(x))"
   ]
  },
  {
   "cell_type": "code",
   "execution_count": 16,
   "metadata": {},
   "outputs": [
    {
     "name": "stdout",
     "output_type": "stream",
     "text": [
      "NormLinear (\n",
      "  (fc): Linear (4 -> 16)\n",
      "  (norm): BatchNorm1d(16, eps=1e-05, momentum=0.1, affine=True)\n",
      ")\n"
     ]
    },
    {
     "data": {
      "text/plain": [
       "Variable containing:\n",
       "\n",
       "Columns 0 to 12 \n",
       "    0     0     0     0     0     0     0     0     0     0     0     0     0\n",
       "\n",
       "Columns 13 to 15 \n",
       "    0     0     0\n",
       "[torch.FloatTensor of size 1x16]"
      ]
     },
     "execution_count": 16,
     "metadata": {},
     "output_type": "execute_result"
    }
   ],
   "source": [
    "test = NormLinear(4,16)\n",
    "print(test)\n",
    "test(pt.autograd.Variable(pt.randn(1,4)))"
   ]
  },
  {
   "cell_type": "code",
   "execution_count": null,
   "metadata": {},
   "outputs": [],
   "source": []
  }
 ],
 "metadata": {
  "kernelspec": {
   "display_name": "Python 3",
   "language": "python",
   "name": "python3"
  },
  "language_info": {
   "codemirror_mode": {
    "name": "ipython",
    "version": 3
   },
   "file_extension": ".py",
   "mimetype": "text/x-python",
   "name": "python",
   "nbconvert_exporter": "python",
   "pygments_lexer": "ipython3",
   "version": "3.5.2"
  }
 },
 "nbformat": 4,
 "nbformat_minor": 2
}
