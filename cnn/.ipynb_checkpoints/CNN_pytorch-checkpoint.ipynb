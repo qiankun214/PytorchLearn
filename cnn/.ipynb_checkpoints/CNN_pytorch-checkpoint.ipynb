{
 "cells": [
  {
   "cell_type": "markdown",
   "metadata": {},
   "source": [
    "# 基于Pytorch的卷积神经网络\n",
    "## 目标\n",
    "- 使用pytorch构建卷积神经网络\n",
    "- 使用MNIST数据集，要求准确率97%以上\n",
    "- 保存网络\n",
    "## MNIST数据集"
   ]
  },
  {
   "cell_type": "code",
   "execution_count": 11,
   "metadata": {},
   "outputs": [],
   "source": [
    "import torch as pt\n",
    "import torchvision as ptv\n",
    "import numpy as np\n",
    "import matplotlib.pyplot as plt\n",
    "\n",
    "train_set = ptv.datasets.MNIST(\n",
    "    \"../../pytorch_database/mnist/train\",\n",
    "    train=True,transform=ptv.transforms.ToTensor(),\n",
    "    download=True\n",
    ")\n",
    "test_set = ptv.datasets.MNIST(\n",
    "    \"../../pytorch_database/mnist/test\",\n",
    "    train=False,\n",
    "    transform=ptv.transforms.ToTensor(),\n",
    "    download=True\n",
    ")\n",
    "train_dataset = pt.utils.data.DataLoader(train_set,batch_size=100)\n",
    "test_dataset = pt.utils.data.DataLoader(test_set,batch_size=100)\n",
    "display_dataset = pt.utils.data.DataLoader(test_set,batch_size=9)"
   ]
  },
  {
   "cell_type": "code",
   "execution_count": 28,
   "metadata": {},
   "outputs": [
    {
     "data": {
      "image/png": "[encoded data removed]",
      "text/plain": [
       "<matplotlib.figure.Figure at 0x7fa8a3dceeb8>"
      ]
     },
     "metadata": {},
     "output_type": "display_data"
    },
    {
     "name": "stdout",
     "output_type": "stream",
     "text": [
      "[[7, 2, 1], [0, 4, 1], [4, 9, 5]]\n"
     ]
    }
   ],
   "source": [
    "for i in enumerate(display_dataset):\n",
    "    inputs = pt.autograd.Variable()\n",
    "    _,(inputs,labels) = i\n",
    "    break\n",
    "# print(inputs)\n",
    "inputs = inputs.numpy()\n",
    "labels = labels.numpy().reshape((3,3))\n",
    "# print(inputs.shape,np.max(inputs),np.min(inputs))\n",
    "for i in range(9):\n",
    "    plt.subplot(331 + i)\n",
    "    plt.imshow(inputs[i][0])\n",
    "plt.show()\n",
    "print(labels.tolist())"
   ]
  },
  {
   "cell_type": "markdown",
   "metadata": {},
   "source": [
    "## 构建网络模型"
   ]
  },
  {
   "cell_type": "code",
   "execution_count": 91,
   "metadata": {},
   "outputs": [
    {
     "name": "stdout",
     "output_type": "stream",
     "text": [
      "CNN (\n",
      "  (conv1): Conv2d(1, 16, kernel_size=(3, 3), stride=(1, 1), padding=(1, 1))\n",
      "  (conv2): Conv2d(16, 32, kernel_size=(3, 3), stride=(1, 1), padding=(1, 1))\n",
      "  (fc1): Linear (1568 -> 512)\n",
      "  (fc2): Linear (512 -> 128)\n",
      "  (fc3): Linear (128 -> 10)\n",
      "  (pool): MaxPool2d (size=(2, 2), stride=(2, 2), dilation=(1, 1))\n",
      ")\n"
     ]
    }
   ],
   "source": [
    "class CNN(pt.nn.Module):\n",
    "    def __init__(self):\n",
    "        super(CNN,self).__init__()\n",
    "        self.conv1 = pt.nn.Conv2d(1,16,3,padding=1)\n",
    "        self.conv2 = pt.nn.Conv2d(16,32,3,padding=1)\n",
    "        self.fc1 = pt.nn.Linear(32 * 7 * 7,512)\n",
    "        self.fc2 = pt.nn.Linear(512,128)\n",
    "        self.fc3 = pt.nn.Linear(128,10)\n",
    "        self.pool = pt.nn.MaxPool2d(2)\n",
    "        \n",
    "    def forward(self,x):\n",
    "        x = self.pool(pt.nn.functional.relu(self.conv1(x)))\n",
    "        x = self.pool(pt.nn.functional.relu(self.conv2(x)))\n",
    "        x = x.view(-1,7 * 7 * 32)\n",
    "        x = pt.nn.functional.relu(self.fc1(x))\n",
    "        x = pt.nn.functional.relu(self.fc2(x))\n",
    "        return pt.nn.functional.softmax(self.fc3(x))\n",
    "model = CNN().cuda()\n",
    "print(model)"
   ]
  },
  {
   "cell_type": "markdown",
   "metadata": {},
   "source": [
    "## 代价函数与优化器"
   ]
  },
  {
   "cell_type": "code",
   "execution_count": 92,
   "metadata": {},
   "outputs": [],
   "source": [
    "lossfunc = pt.nn.CrossEntropyLoss().cuda()\n",
    "optimiter = pt.optim.Adam(model.parameters(),lr=0.001)\n",
    "\n",
    "def AccuarcyCompute(pred,label):\n",
    "    pred = pred.cpu().data.numpy()\n",
    "    label = label.cpu().data.numpy()\n",
    "    test_np = (np.argmax(pred,1) == label)\n",
    "    test_np = np.float32(test_np)\n",
    "    return np.mean(test_np)"
   ]
  },
  {
   "cell_type": "markdown",
   "metadata": {},
   "source": [
    "## 训练"
   ]
  },
  {
   "cell_type": "code",
   "execution_count": 93,
   "metadata": {},
   "outputs": [
    {
     "name": "stdout",
     "output_type": "stream",
     "text": [
      "0 : 0.13\n",
      "100 : 0.71\n",
      "200 : 0.66\n",
      "300 : 0.81\n",
      "400 : 0.88\n",
      "500 : 0.96\n",
      "0 : 0.97\n",
      "100 : 0.98\n",
      "200 : 0.91\n",
      "300 : 0.97\n",
      "400 : 0.99\n",
      "500 : 1.0\n"
     ]
    },
    {
     "data": {
      "image/png": "[encoded data removed]",
      "text/plain": [
       "<matplotlib.figure.Figure at 0x7fa8a3c259b0>"
      ]
     },
     "metadata": {},
     "output_type": "display_data"
    }
   ],
   "source": [
    "loss_list = []\n",
    "for _ in range(2):\n",
    "    for i,(inputs,labels) in enumerate(train_dataset):\n",
    "        inputs = pt.autograd.Variable(inputs).cuda()\n",
    "        labels = pt.autograd.Variable(labels).cuda()\n",
    "        optimiter.zero_grad()\n",
    "        \n",
    "        outputs = model(inputs)\n",
    "        loss = lossfunc(outputs,labels)\n",
    "        loss.backward()\n",
    "        \n",
    "        optimiter.step()\n",
    "        if i % 100 == 0:\n",
    "            print(i,\":\",AccuarcyCompute(outputs,labels))\n",
    "            loss_list.append(loss.cpu().data.numpy()[0])\n",
    "#             print(loss_list)\n",
    "plt.plot(range(len(loss_list)),loss_list)\n",
    "plt.show()"
   ]
  },
  {
   "cell_type": "markdown",
   "metadata": {},
   "source": [
    "## 测试"
   ]
  },
  {
   "cell_type": "code",
   "execution_count": 94,
   "metadata": {},
   "outputs": [
    {
     "name": "stdout",
     "output_type": "stream",
     "text": [
      "0.975300005674\n"
     ]
    }
   ],
   "source": [
    "accuarcy_list = []\n",
    "for i,(inputs,labels) in enumerate(test_dataset):\n",
    "    inputs = pt.autograd.Variable(inputs).cuda()\n",
    "    labels = pt.autograd.Variable(labels).cuda()\n",
    "    outputs = model(inputs)\n",
    "    accuarcy_list.append(AccuarcyCompute(outputs,labels))\n",
    "print(sum(accuarcy_list) / len(accuarcy_list))"
   ]
  },
  {
   "cell_type": "markdown",
   "metadata": {},
   "source": [
    "## 可视化"
   ]
  },
  {
   "cell_type": "code",
   "execution_count": 98,
   "metadata": {},
   "outputs": [
    {
     "data": {
      "image/png": "[encoded data removed]",
      "text/plain": [
       "<matplotlib.figure.Figure at 0x7fa8a3ea02b0>"
      ]
     },
     "metadata": {},
     "output_type": "display_data"
    },
    {
     "name": "stdout",
     "output_type": "stream",
     "text": [
      "Variable containing:\n",
      " 7\n",
      " 2\n",
      " 1\n",
      " 0\n",
      " 4\n",
      " 1\n",
      " 4\n",
      " 9\n",
      " 5\n",
      "[torch.cuda.LongTensor of size 9 (GPU 0)]\n",
      "\n"
     ]
    }
   ],
   "source": [
    "for i in enumerate(display_dataset):\n",
    "    inputs = pt.autograd.Variable()\n",
    "    _,(inputs,labels) = i\n",
    "    break\n",
    "for i in range(9):\n",
    "    plt.subplot(331 + i)\n",
    "    plt.imshow(inputs.numpy()[i][0])\n",
    "plt.show()\n",
    "inputs = pt.autograd.Variable(inputs).cuda()\n",
    "_,outputs = pt.max(model(inputs),1)\n",
    "print(outputs)"
   ]
  },
  {
   "cell_type": "markdown",
   "metadata": {},
   "source": [
    "## 保存网络"
   ]
  },
  {
   "cell_type": "code",
   "execution_count": 100,
   "metadata": {},
   "outputs": [],
   "source": [
    "pt.save(model.state_dict(),'../../pytorch_model/cnn/base_cnn.pt')"
   ]
  }
 ],
 "metadata": {
  "kernelspec": {
   "display_name": "Python 3",
   "language": "python",
   "name": "python3"
  },
  "language_info": {
   "codemirror_mode": {
    "name": "ipython",
    "version": 3
   },
   "file_extension": ".py",
   "mimetype": "text/x-python",
   "name": "python",
   "nbconvert_exporter": "python",
   "pygments_lexer": "ipython3",
   "version": "3.5.2"
  }
 },
 "nbformat": 4,
 "nbformat_minor": 2
}
