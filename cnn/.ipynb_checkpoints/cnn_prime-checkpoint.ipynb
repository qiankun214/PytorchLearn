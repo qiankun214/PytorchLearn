{
 "cells": [
  {
   "cell_type": "markdown",
   "metadata": {},
   "source": [
    "# CNN 添加批标准化，dropout，提前终止和使用卷积代替全连接层\n",
    "## 原代码"
   ]
  },
  {
   "cell_type": "code",
   "execution_count": 1,
   "metadata": {},
   "outputs": [],
   "source": [
    "import torch as pt\n",
    "import torchvision as ptv\n",
    "import numpy as np\n",
    "import matplotlib.pyplot as plt\n",
    "\n",
    "train_set = ptv.datasets.MNIST(\n",
    "    \"../../pytorch_database/mnist/train\",\n",
    "    train=True,transform=ptv.transforms.ToTensor(),\n",
    "    download=True\n",
    ")\n",
    "test_set = ptv.datasets.MNIST(\n",
    "    \"../../pytorch_database/mnist/test\",\n",
    "    train=False,\n",
    "    transform=ptv.transforms.ToTensor(),\n",
    "    download=True\n",
    ")\n",
    "train_dataset = pt.utils.data.DataLoader(train_set,batch_size=100)\n",
    "test_dataset = pt.utils.data.DataLoader(test_set,batch_size=100)\n",
    "display_dataset = pt.utils.data.DataLoader(test_set,batch_size=9)"
   ]
  },
  {
   "cell_type": "code",
   "execution_count": 2,
   "metadata": {},
   "outputs": [
    {
     "name": "stdout",
     "output_type": "stream",
     "text": [
      "CNN (\n",
      "  (conv1): Conv2d(1, 16, kernel_size=(3, 3), stride=(1, 1), padding=(1, 1))\n",
      "  (conv2): Conv2d(16, 32, kernel_size=(3, 3), stride=(1, 1), padding=(1, 1))\n",
      "  (fc1): Linear (1568 -> 512)\n",
      "  (fc2): Linear (512 -> 128)\n",
      "  (fc3): Linear (128 -> 10)\n",
      "  (pool): MaxPool2d (size=(2, 2), stride=(2, 2), dilation=(1, 1))\n",
      ")\n"
     ]
    }
   ],
   "source": [
    "class CNN(pt.nn.Module):\n",
    "    def __init__(self):\n",
    "        super(CNN,self).__init__()\n",
    "        self.conv1 = pt.nn.Conv2d(1,16,3,padding=1)\n",
    "        self.conv2 = pt.nn.Conv2d(16,32,3,padding=1)\n",
    "        self.fc1 = pt.nn.Linear(32 * 7 * 7,512)\n",
    "        self.fc2 = pt.nn.Linear(512,128)\n",
    "        self.fc3 = pt.nn.Linear(128,10)\n",
    "        self.pool = pt.nn.MaxPool2d(2)\n",
    "        \n",
    "    def forward(self,x):\n",
    "        x = self.pool(pt.nn.functional.relu(self.conv1(x)))\n",
    "        x = self.pool(pt.nn.functional.relu(self.conv2(x)))\n",
    "        x = x.view(-1,7 * 7 * 32)\n",
    "        x = pt.nn.functional.relu(self.fc1(x))\n",
    "        x = pt.nn.functional.relu(self.fc2(x))\n",
    "        return pt.nn.functional.softmax(self.fc3(x))\n",
    "model = CNN().cuda()\n",
    "print(model)"
   ]
  },
  {
   "cell_type": "code",
   "execution_count": 3,
   "metadata": {},
   "outputs": [],
   "source": [
    "lossfunc = pt.nn.CrossEntropyLoss().cuda()\n",
    "optimiter = pt.optim.Adam(model.parameters(),lr=0.001)\n",
    "\n",
    "def AccuarcyCompute(pred,label):\n",
    "    pred = pred.cpu().data.numpy()\n",
    "    label = label.cpu().data.numpy()\n",
    "    test_np = (np.argmax(pred,1) == label)\n",
    "    test_np = np.float32(test_np)\n",
    "    return np.mean(test_np)"
   ]
  },
  {
   "cell_type": "code",
   "execution_count": 4,
   "metadata": {
    "scrolled": true
   },
   "outputs": [
    {
     "name": "stdout",
     "output_type": "stream",
     "text": [
      "0 : 0.11\n",
      "100 : 0.7\n",
      "200 : 0.69\n",
      "300 : 0.79\n",
      "400 : 0.9\n",
      "500 : 0.97\n",
      "0 : 0.98\n",
      "100 : 0.97\n",
      "200 : 0.93\n",
      "300 : 0.97\n",
      "400 : 0.97\n",
      "500 : 0.98\n"
     ]
    },
    {
     "data": {
      "image/png": "[encoded data removed]",
      "text/plain": [
       "<matplotlib.figure.Figure at 0x7ff43852c978>"
      ]
     },
     "metadata": {},
     "output_type": "display_data"
    }
   ],
   "source": [
    "loss_list = []\n",
    "for _ in range(2):\n",
    "    for i,(inputs,labels) in enumerate(train_dataset):\n",
    "        inputs = pt.autograd.Variable(inputs).cuda()\n",
    "        labels = pt.autograd.Variable(labels).cuda()\n",
    "        optimiter.zero_grad()\n",
    "        \n",
    "        outputs = model(inputs)\n",
    "        loss = lossfunc(outputs,labels)\n",
    "        loss.backward()\n",
    "        \n",
    "        optimiter.step()\n",
    "        if i % 100 == 0:\n",
    "            print(i,\":\",AccuarcyCompute(outputs,labels))\n",
    "            loss_list.append(loss.cpu().data.numpy()[0])\n",
    "#             print(loss_list)\n",
    "plt.plot(range(len(loss_list)),loss_list)\n",
    "plt.show()"
   ]
  },
  {
   "cell_type": "code",
   "execution_count": 6,
   "metadata": {},
   "outputs": [
    {
     "name": "stdout",
     "output_type": "stream",
     "text": [
      "0.973400005102\n"
     ]
    }
   ],
   "source": [
    "def model_test(model,dataset): \n",
    "    accuarcy_list = []\n",
    "    for i,(inputs,labels) in enumerate(dataset):\n",
    "        inputs = pt.autograd.Variable(inputs).cuda()\n",
    "        labels = pt.autograd.Variable(labels).cuda()\n",
    "        outputs = model(inputs)\n",
    "        accuarcy_list.append(AccuarcyCompute(outputs,labels))\n",
    "    print(sum(accuarcy_list) / len(accuarcy_list))\n",
    "model_test(model,test_dataset)"
   ]
  },
  {
   "cell_type": "markdown",
   "metadata": {},
   "source": [
    "## 添加批标准化"
   ]
  },
  {
   "cell_type": "code",
   "execution_count": 12,
   "metadata": {},
   "outputs": [
    {
     "name": "stdout",
     "output_type": "stream",
     "text": [
      "CNN_norm (\n",
      "  (conv1): Conv2d(1, 16, kernel_size=(3, 3), stride=(1, 1), padding=(1, 1))\n",
      "  (conv2): Conv2d(16, 32, kernel_size=(3, 3), stride=(1, 1), padding=(1, 1))\n",
      "  (fc1): Linear (1568 -> 512)\n",
      "  (fc2): Linear (512 -> 128)\n",
      "  (fc3): Linear (128 -> 10)\n",
      "  (pool): MaxPool2d (size=(2, 2), stride=(2, 2), dilation=(1, 1))\n",
      "  (norm1): BatchNorm2d(16, eps=1e-05, momentum=0.1, affine=True)\n",
      "  (norm2): BatchNorm2d(32, eps=1e-05, momentum=0.1, affine=True)\n",
      "  (norm3): BatchNorm1d(512, eps=1e-05, momentum=0.1, affine=True)\n",
      "  (norm4): BatchNorm1d(128, eps=1e-05, momentum=0.1, affine=True)\n",
      ")\n"
     ]
    }
   ],
   "source": [
    "class CNN_norm(pt.nn.Module):\n",
    "    def __init__(self):\n",
    "        super(CNN_norm,self).__init__()\n",
    "        self.conv1 = pt.nn.Conv2d(1,16,3,padding=1)\n",
    "        self.conv2 = pt.nn.Conv2d(16,32,3,padding=1)\n",
    "        self.fc1 = pt.nn.Linear(32 * 7 * 7,512)\n",
    "        self.fc2 = pt.nn.Linear(512,128)\n",
    "        self.fc3 = pt.nn.Linear(128,10)\n",
    "        self.pool = pt.nn.MaxPool2d(2)\n",
    "        self.norm1 = pt.nn.BatchNorm2d(16)\n",
    "        self.norm2 = pt.nn.BatchNorm2d(32)\n",
    "        self.norm3 = pt.nn.BatchNorm1d(512)\n",
    "        self.norm4 = pt.nn.BatchNorm1d(128)\n",
    "        \n",
    "    def forward(self,x):\n",
    "        x = self.pool(pt.nn.functional.relu(self.norm1(self.conv1(x))))\n",
    "        x = self.pool(pt.nn.functional.relu(self.norm2(self.conv2(x))))\n",
    "        x = x.view(-1,7 * 7 * 32)\n",
    "        x = pt.nn.functional.relu(self.norm3(self.fc1(x)))\n",
    "        x = pt.nn.functional.relu(self.norm4(self.fc2(x)))\n",
    "        return pt.nn.functional.softmax(self.fc3(x))\n",
    "model = CNN_norm().cuda()\n",
    "print(model)"
   ]
  },
  {
   "cell_type": "code",
   "execution_count": 13,
   "metadata": {},
   "outputs": [],
   "source": [
    "lossfunc = pt.nn.CrossEntropyLoss().cuda()\n",
    "optimiter = pt.optim.Adam(model.parameters(),lr=0.001)\n",
    "\n",
    "def AccuarcyCompute(pred,label):\n",
    "    pred = pred.cpu().data.numpy()\n",
    "    label = label.cpu().data.numpy()\n",
    "    test_np = (np.argmax(pred,1) == label)\n",
    "    test_np = np.float32(test_np)\n",
    "    return np.mean(test_np)"
   ]
  },
  {
   "cell_type": "code",
   "execution_count": 14,
   "metadata": {},
   "outputs": [
    {
     "name": "stdout",
     "output_type": "stream",
     "text": [
      "0 : 0.07\n",
      "100 : 0.98\n",
      "200 : 0.98\n",
      "300 : 0.99\n",
      "400 : 0.98\n",
      "500 : 0.99\n",
      "0 : 0.97\n",
      "100 : 0.99\n",
      "200 : 0.99\n",
      "300 : 0.99\n",
      "400 : 0.99\n",
      "500 : 0.99\n"
     ]
    },
    {
     "data": {
      "image/png": "[encoded data removed]",
      "text/plain": [
       "<matplotlib.figure.Figure at 0x7ff431f71358>"
      ]
     },
     "metadata": {},
     "output_type": "display_data"
    }
   ],
   "source": [
    "loss_list = []\n",
    "for _ in range(2):\n",
    "    for i,(inputs,labels) in enumerate(train_dataset):\n",
    "        inputs = pt.autograd.Variable(inputs).cuda()\n",
    "        labels = pt.autograd.Variable(labels).cuda()\n",
    "        optimiter.zero_grad()\n",
    "        \n",
    "        outputs = model(inputs)\n",
    "        loss = lossfunc(outputs,labels)\n",
    "        loss.backward()\n",
    "        \n",
    "        optimiter.step()\n",
    "        if i % 100 == 0:\n",
    "            print(i,\":\",AccuarcyCompute(outputs,labels))\n",
    "            loss_list.append(loss.cpu().data.numpy()[0])\n",
    "#             print(loss_list)\n",
    "plt.plot(range(len(loss_list)),loss_list)\n",
    "plt.show()"
   ]
  },
  {
   "cell_type": "code",
   "execution_count": 15,
   "metadata": {},
   "outputs": [
    {
     "name": "stdout",
     "output_type": "stream",
     "text": [
      "0.987500010133\n"
     ]
    }
   ],
   "source": [
    "model_test(model,test_dataset)"
   ]
  },
  {
   "cell_type": "markdown",
   "metadata": {},
   "source": [
    "## 使用卷积层代替全连接层"
   ]
  },
  {
   "cell_type": "code",
   "execution_count": 22,
   "metadata": {},
   "outputs": [
    {
     "name": "stdout",
     "output_type": "stream",
     "text": [
      "CNN_no_mlp (\n",
      "  (conv1): Conv2d(1, 16, kernel_size=(3, 3), stride=(1, 1), padding=(1, 1))\n",
      "  (conv2): Conv2d(16, 32, kernel_size=(3, 3), stride=(1, 1), padding=(1, 1))\n",
      "  (conv3): Conv2d(32, 32, kernel_size=(3, 3), stride=(1, 1), padding=(2, 2))\n",
      "  (conv4): Conv2d(32, 16, kernel_size=(1, 1), stride=(1, 1))\n",
      "  (conv5): Conv2d(16, 10, kernel_size=(1, 1), stride=(1, 1))\n",
      "  (pool): MaxPool2d (size=(2, 2), stride=(2, 2), dilation=(1, 1))\n",
      ")\n"
     ]
    },
    {
     "data": {
      "text/plain": [
       "Variable containing:\n",
       " 0.0969  0.1141  0.0788  0.1193  0.0931  0.1115  0.1109  0.0832  0.1138  0.0894\n",
       "[torch.cuda.FloatTensor of size 1x10 (GPU 0)]"
      ]
     },
     "execution_count": 22,
     "metadata": {},
     "output_type": "execute_result"
    }
   ],
   "source": [
    "class CNN_no_mlp(pt.nn.Module):\n",
    "    def __init__(self):\n",
    "        super(CNN_no_mlp,self).__init__()\n",
    "        self.conv1 = pt.nn.Conv2d(1,16,3,padding=1)\n",
    "        self.conv2 = pt.nn.Conv2d(16,32,3,padding=1)\n",
    "        self.conv3 = pt.nn.Conv2d(32,32,3,padding=2)\n",
    "        self.conv4 = pt.nn.Conv2d(32,16,1)\n",
    "        self.conv5 = pt.nn.Conv2d(16,10,1)\n",
    "        self.pool = pt.nn.MaxPool2d(2)\n",
    "        \n",
    "    def forward(self,x):\n",
    "        x = self.pool(pt.nn.functional.relu(self.conv1(x)))\n",
    "#         print(x.size())\n",
    "        x = self.pool(pt.nn.functional.relu(self.conv2(x)))\n",
    "#         print(x.size())\n",
    "        x = self.pool(pt.nn.functional.relu(self.conv3(x)))\n",
    "#         print(x.size())\n",
    "        x = self.pool(pt.nn.functional.relu(self.conv4(x)))\n",
    "#         print(x.size())\n",
    "        x = self.pool(pt.nn.functional.softmax(self.conv5(x)))\n",
    "#         print(x.size())\n",
    "        return x.view(-1,10)\n",
    "model = CNN_no_mlp().cuda()\n",
    "print(model)\n",
    "test_v = pt.autograd.Variable(pt.randn(1,1,28,28)).cuda()\n",
    "model(test_v)"
   ]
  },
  {
   "cell_type": "code",
   "execution_count": 23,
   "metadata": {},
   "outputs": [],
   "source": [
    "lossfunc = pt.nn.CrossEntropyLoss().cuda()\n",
    "optimiter = pt.optim.Adam(model.parameters(),lr=0.001)\n",
    "\n",
    "def AccuarcyCompute(pred,label):\n",
    "    pred = pred.cpu().data.numpy()\n",
    "    label = label.cpu().data.numpy()\n",
    "    test_np = (np.argmax(pred,1) == label)\n",
    "    test_np = np.float32(test_np)\n",
    "    return np.mean(test_np)"
   ]
  },
  {
   "cell_type": "code",
   "execution_count": 29,
   "metadata": {},
   "outputs": [
    {
     "name": "stdout",
     "output_type": "stream",
     "text": [
      "0 : 0.94\n",
      "100 : 0.93\n",
      "200 : 0.94\n",
      "300 : 0.95\n",
      "400 : 0.98\n",
      "500 : 0.94\n",
      "0 : 0.94\n",
      "100 : 0.93\n",
      "200 : 0.93\n",
      "300 : 0.96\n",
      "400 : 0.98\n",
      "500 : 0.94\n"
     ]
    },
    {
     "data": {
      "image/png": "[encoded data removed]",
      "text/plain": [
       "<matplotlib.figure.Figure at 0x7ff43242a0b8>"
      ]
     },
     "metadata": {},
     "output_type": "display_data"
    }
   ],
   "source": [
    "loss_list = []\n",
    "for _ in range(2):\n",
    "    for i,(inputs,labels) in enumerate(train_dataset):\n",
    "        inputs = pt.autograd.Variable(inputs).cuda()\n",
    "        labels = pt.autograd.Variable(labels).cuda()\n",
    "        optimiter.zero_grad()\n",
    "        \n",
    "        outputs = model(inputs)\n",
    "        loss = lossfunc(outputs,labels)\n",
    "        loss.backward()\n",
    "        \n",
    "        optimiter.step()\n",
    "        if i % 100 == 0:\n",
    "            print(i,\":\",AccuarcyCompute(outputs,labels))\n",
    "            loss_list.append(loss.cpu().data.numpy()[0])\n",
    "#             print(loss_list)\n",
    "plt.plot(range(len(loss_list)),loss_list)\n",
    "plt.show()"
   ]
  },
  {
   "cell_type": "code",
   "execution_count": 30,
   "metadata": {},
   "outputs": [
    {
     "name": "stdout",
     "output_type": "stream",
     "text": [
      "0.93900000155\n"
     ]
    }
   ],
   "source": [
    "model_test(model,test_dataset)"
   ]
  },
  {
   "cell_type": "code",
   "execution_count": null,
   "metadata": {},
   "outputs": [],
   "source": []
  }
 ],
 "metadata": {
  "kernelspec": {
   "display_name": "Python 3",
   "language": "python",
   "name": "python3"
  },
  "language_info": {
   "codemirror_mode": {
    "name": "ipython",
    "version": 3
   },
   "file_extension": ".py",
   "mimetype": "text/x-python",
   "name": "python",
   "nbconvert_exporter": "python",
   "pygments_lexer": "ipython3",
   "version": "3.5.2"
  }
 },
 "nbformat": 4,
 "nbformat_minor": 2
}
