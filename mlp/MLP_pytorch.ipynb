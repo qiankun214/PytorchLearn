{
 "cells": [
  {
   "cell_type": "markdown",
   "metadata": {},
   "source": [
    "# 基于Pytorch的MLP实现\n",
    "## 目标\n",
    "- 使用pytorch构建MLP网络\n",
    "- 训练集使用MNIST数据集\n",
    "- 使用GPU加速运算\n",
    "- 要求准确率能达到92%以上\n",
    "- 保存模型\n",
    "## 实现\n",
    "### 数据集：MNIST数据集的载入\n",
    "MNIST数据集是一种常用的数据集，为28\\*28的手写数字训练集，label使用独热码，在pytorch中，可以使用`torchvision.datasets.MNIST()`和`torch.utils.data.DataLoader（）`来导入数据集,其中\n",
    "- `torchvision.datasets.MNIST()`:用于下载，导入数据集\n",
    "- `torch.utils.data.DataLoader（）`:用于将数据集整理成batch的形式并转换为可迭代对象"
   ]
  },
  {
   "cell_type": "code",
   "execution_count": 13,
   "metadata": {},
   "outputs": [],
   "source": [
    "import torch as pt\n",
    "import torchvision as ptv\n",
    "import numpy as np"
   ]
  },
  {
   "cell_type": "code",
   "execution_count": 14,
   "metadata": {},
   "outputs": [],
   "source": [
    "train_set = ptv.datasets.MNIST(\"../../pytorch_database/mnist/train\",train=True,transform=ptv.transforms.ToTensor(),download=True)\n",
    "test_set = ptv.datasets.MNIST(\"../../pytorch_database/mnist/test\",train=False,transform=ptv.transforms.ToTensor(),download=True)"
   ]
  },
  {
   "cell_type": "code",
   "execution_count": 15,
   "metadata": {},
   "outputs": [],
   "source": [
    "train_dataset = pt.utils.data.DataLoader(train_set,batch_size=100)\n",
    "test_dataset = pt.utils.data.DataLoader(test_set,batch_size=100)"
   ]
  },
  {
   "cell_type": "markdown",
   "metadata": {},
   "source": [
    "### 网络结构构建\n",
    "网络使用最简单的MLP模型，使用最简单的线性层即可构建,本次网络一共有3层全连接层，分别为28\\*28->512,512->128,128->10,除了输出层的激活函数使用softmax以外，其他均采用relu"
   ]
  },
  {
   "cell_type": "code",
   "execution_count": 16,
   "metadata": {},
   "outputs": [
    {
     "name": "stdout",
     "output_type": "stream",
     "text": [
      "MLP (\n",
      "  (fc1): Linear (784 -> 512)\n",
      "  (fc2): Linear (512 -> 128)\n",
      "  (fc3): Linear (128 -> 10)\n",
      ")\n"
     ]
    }
   ],
   "source": [
    "class MLP(pt.nn.Module):\n",
    "    def __init__(self):\n",
    "        super(MLP,self).__init__()\n",
    "        self.fc1 = pt.nn.Linear(784,512)\n",
    "        self.fc2 = pt.nn.Linear(512,128)\n",
    "        self.fc3 = pt.nn.Linear(128,10)\n",
    "        \n",
    "    def forward(self,din):\n",
    "        din = din.view(-1,28*28)\n",
    "        dout = pt.nn.functional.relu(self.fc1(din))\n",
    "        dout = pt.nn.functional.relu(self.fc2(dout))\n",
    "        return pt.nn.functional.softmax(self.fc3(dout))\n",
    "model = MLP().cuda()\n",
    "print(model)"
   ]
  },
  {
   "cell_type": "markdown",
   "metadata": {},
   "source": [
    "### 代价函数，优化器和准确率检测\n",
    "代价函数使用交叉熵函数，使用numpy计算准确率（pytorch中也有相关函数），优化器使用最简单的SGD"
   ]
  },
  {
   "cell_type": "code",
   "execution_count": 17,
   "metadata": {},
   "outputs": [],
   "source": [
    "# loss func and optim\n",
    "optimizer = pt.optim.SGD(model.parameters(),lr=0.01,momentum=0.9)\n",
    "lossfunc = pt.nn.CrossEntropyLoss().cuda()\n",
    "\n",
    "# accuarcy\n",
    "def AccuarcyCompute(pred,label):\n",
    "    pred = pred.cpu().data.numpy()\n",
    "    label = label.cpu().data.numpy()\n",
    "#     print(pred.shape(),label.shape())\n",
    "    test_np = (np.argmax(pred,1) == label)\n",
    "    test_np = np.float32(test_np)\n",
    "    return np.mean(test_np)\n",
    "\n",
    "# test accuarcy\n",
    "# print(AccuarcyCompute(\n",
    "#     np.array([[1,10,6],[0,2,5]],dtype=np.float32),\n",
    "#     np.array([[1,2,8],[1,2,5]],dtype=np.float32)))"
   ]
  },
  {
   "cell_type": "markdown",
   "metadata": {},
   "source": [
    "### 训练网络\n",
    "训练网络的步骤分为以下几步：\n",
    "1. 初始化，清空网络内上一次训练得到的梯度\n",
    "2. 载入数据为Variable，送入网络进行前向传播\n",
    "3. 计算代价函数，并进行反向传播计算梯度\n",
    "4. 调用优化器进行优化"
   ]
  },
  {
   "cell_type": "code",
   "execution_count": 21,
   "metadata": {},
   "outputs": [
    {
     "name": "stdout",
     "output_type": "stream",
     "text": [
      "0 : 0.9\n",
      "100 : 0.84\n",
      "200 : 0.82\n",
      "300 : 0.88\n",
      "400 : 0.9\n",
      "500 : 0.92\n",
      "0 : 0.93\n",
      "100 : 0.91\n",
      "200 : 0.9\n",
      "300 : 0.91\n",
      "400 : 0.9\n",
      "500 : 0.91\n",
      "0 : 0.93\n",
      "100 : 0.91\n",
      "200 : 0.94\n",
      "300 : 0.91\n",
      "400 : 0.93\n",
      "500 : 0.92\n",
      "0 : 0.96\n",
      "100 : 0.94\n",
      "200 : 0.95\n",
      "300 : 0.91\n",
      "400 : 0.93\n",
      "500 : 0.94\n"
     ]
    }
   ],
   "source": [
    "for x in range(4):\n",
    "    for i,data in enumerate(train_dataset):\n",
    "    \n",
    "        optimizer.zero_grad()\n",
    "    \n",
    "        (inputs,labels) = data\n",
    "        inputs = pt.autograd.Variable(inputs).cuda()\n",
    "        labels = pt.autograd.Variable(labels).cuda()\n",
    "    \n",
    "        outputs = model(inputs)\n",
    "    \n",
    "        loss = lossfunc(outputs,labels)\n",
    "        loss.backward()\n",
    "    \n",
    "        optimizer.step()\n",
    "    \n",
    "        if i % 100 == 0:\n",
    "            print(i,\":\",AccuarcyCompute(outputs,labels))"
   ]
  },
  {
   "cell_type": "markdown",
   "metadata": {},
   "source": [
    "### 测试网络\n",
    "使用使用测试集训练网络，直接计算结果并将计算准确率即可"
   ]
  },
  {
   "cell_type": "code",
   "execution_count": 27,
   "metadata": {},
   "outputs": [
    {
     "name": "stdout",
     "output_type": "stream",
     "text": [
      "0.936700002551\n"
     ]
    }
   ],
   "source": [
    "accuarcy_list = []\n",
    "for i,(inputs,labels) in enumerate(test_dataset):\n",
    "    inputs = pt.autograd.Variable(inputs).cuda()\n",
    "    labels = pt.autograd.Variable(labels).cuda()\n",
    "    outputs = model(inputs)\n",
    "    accuarcy_list.append(AccuarcyCompute(outputs,labels))\n",
    "print(sum(accuarcy_list) / len(accuarcy_list))"
   ]
  },
  {
   "cell_type": "markdown",
   "metadata": {},
   "source": [
    "### 保存网络\n",
    "pytorch提供了两种保存网络的方法，分别是保存参数和保存模型\n",
    "- 保存参数：仅仅保存网络中的参数，不保存模型，在load的时候要预先定义模型\n",
    "- 保存模型：保存全部参数与模型，load后直接使用"
   ]
  },
  {
   "cell_type": "code",
   "execution_count": 28,
   "metadata": {},
   "outputs": [
    {
     "name": "stderr",
     "output_type": "stream",
     "text": [
      "/home/sky/virtualpython/pytorch0p2/lib/python3.5/site-packages/torch/serialization.py:147: UserWarning: Couldn't retrieve source code for container of type MLP. It won't be checked for correctness upon loading.\n",
      "  \"type \" + obj.__name__ + \". It won't be checked \"\n"
     ]
    }
   ],
   "source": [
    "# only save paramters\n",
    "pt.save(model.state_dict(),\"../../pytorch_model/mlp/params/mlp_params.pt\")\n",
    "\n",
    "# save model\n",
    "pt.save(model,\"../../pytorch_model/mlp/model/mlp_model.pt\")"
   ]
  },
  {
   "cell_type": "code",
   "execution_count": 31,
   "metadata": {},
   "outputs": [
    {
     "name": "stdout",
     "output_type": "stream",
     "text": [
      "0.936700002551\n"
     ]
    }
   ],
   "source": [
    "test_save_net = MLP().cuda()\n",
    "test_save_net.load_state_dict(pt.load(\"../../pytorch_model/mlp/params/mlp_params.pt\"))\n",
    "accuarcy_list = []\n",
    "for i,(inputs,labels) in enumerate(test_dataset):\n",
    "    inputs = pt.autograd.Variable(inputs).cuda()\n",
    "    labels = pt.autograd.Variable(labels).cuda()\n",
    "    outputs = model(inputs)\n",
    "    accuarcy_list.append(AccuarcyCompute(outputs,labels))\n",
    "print(sum(accuarcy_list) / len(accuarcy_list))"
   ]
  },
  {
   "cell_type": "code",
   "execution_count": 33,
   "metadata": {},
   "outputs": [
    {
     "name": "stdout",
     "output_type": "stream",
     "text": [
      "0.936700002551\n"
     ]
    }
   ],
   "source": [
    "test_save_model = pt.load(\"../../pytorch_model/mlp/model/mlp_model.pt\")\n",
    "accuarcy_list = []\n",
    "for i,(inputs,labels) in enumerate(test_dataset):\n",
    "    inputs = pt.autograd.Variable(inputs).cuda()\n",
    "    labels = pt.autograd.Variable(labels).cuda()\n",
    "    outputs = model(inputs)\n",
    "    accuarcy_list.append(AccuarcyCompute(outputs,labels))\n",
    "print(sum(accuarcy_list) / len(accuarcy_list))"
   ]
  },
  {
   "cell_type": "markdown",
   "metadata": {},
   "source": [
    "## 问题记录\n",
    "### Variable转numpy的问题\n",
    "Variable目前没查到转为numpy的方法，考虑Variable中的数据保存在一个`torch.Tensor`中，该Tensor为`Variable.data`，直接将其转为numpy即可\n",
    "### GPU产生的转换问题\n",
    "GPU上的Tensor不能直接转换为numpy，需要一个在CPU上的副本，因此可以先使用`Variable.cpu()`创建CPU副本，再使用`Variable.data.numpy()`方法"
   ]
  }
 ],
 "metadata": {
  "kernelspec": {
   "display_name": "Python 3",
   "language": "python",
   "name": "python3"
  },
  "language_info": {
   "codemirror_mode": {
    "name": "ipython",
    "version": 3
   },
   "file_extension": ".py",
   "mimetype": "text/x-python",
   "name": "python",
   "nbconvert_exporter": "python",
   "pygments_lexer": "ipython3",
   "version": "3.5.2"
  }
 },
 "nbformat": 4,
 "nbformat_minor": 2
}
